{
 "cells": [
  {
   "cell_type": "code",
   "execution_count": null,
   "id": "e69dd0cf-5aba-40e2-97ae-5478676ac32f",
   "metadata": {},
   "outputs": [],
   "source": [
    "Q.1"
   ]
  },
  {
   "cell_type": "code",
   "execution_count": null,
   "id": "cb3cbe17-b074-4143-8316-aac96331d3fa",
   "metadata": {},
   "outputs": [],
   "source": [
    "1) An Exception is caused by program"
   ]
  },
  {
   "cell_type": "code",
   "execution_count": null,
   "id": "3aac6297-5102-41c1-a40c-6e4693b59911",
   "metadata": {},
   "outputs": [],
   "source": [
    "1) Error is caused by due to resource"
   ]
  },
  {
   "cell_type": "code",
   "execution_count": 1,
   "id": "e7c9b05f-b069-4663-9789-7b75bc5a9c4a",
   "metadata": {},
   "outputs": [],
   "source": [
    "a= 10"
   ]
  },
  {
   "cell_type": "code",
   "execution_count": 3,
   "id": "7a10aaef-99e8-4ea8-9173-0592367cb92d",
   "metadata": {},
   "outputs": [
    {
     "ename": "NameError",
     "evalue": "name 'o' is not defined",
     "output_type": "error",
     "traceback": [
      "\u001b[0;31m---------------------------------------------------------------------------\u001b[0m",
      "\u001b[0;31mNameError\u001b[0m                                 Traceback (most recent call last)",
      "Cell \u001b[0;32mIn[3], line 1\u001b[0m\n\u001b[0;32m----> 1\u001b[0m a\u001b[38;5;241m/\u001b[39m\u001b[43mo\u001b[49m\n",
      "\u001b[0;31mNameError\u001b[0m: name 'o' is not defined"
     ]
    }
   ],
   "source": [
    "a/0"
   ]
  },
  {
   "cell_type": "code",
   "execution_count": null,
   "id": "0f90e980-67b7-492a-b610-e3291eed1851",
   "metadata": {},
   "outputs": [],
   "source": [
    "try:\n",
    "    F= open (\" test. txt\" 'r' ) expect Expection as e: \n",
    "        print ( \" this is my evpect book \"e ), "
   ]
  },
  {
   "cell_type": "code",
   "execution_count": 4,
   "id": "35b43b1a-f94d-4fbd-adf5-f363832fce15",
   "metadata": {},
   "outputs": [
    {
     "ename": "SyntaxError",
     "evalue": "unterminated string literal (detected at line 1) (2131801678.py, line 1)",
     "output_type": "error",
     "traceback": [
      "\u001b[0;36m  Cell \u001b[0;32mIn[4], line 1\u001b[0;36m\u001b[0m\n\u001b[0;31m    F= open (\" test. txt\", 'r' ) print ( \" this is my print )\u001b[0m\n\u001b[0m                                         ^\u001b[0m\n\u001b[0;31mSyntaxError\u001b[0m\u001b[0;31m:\u001b[0m unterminated string literal (detected at line 1)\n"
     ]
    }
   ],
   "source": [
    "F= open (\" test. txt\", 'r' ) print ( \" this is my print ) "
   ]
  },
  {
   "cell_type": "code",
   "execution_count": 5,
   "id": "b029a209-ae80-4809-8301-383e8db6a52b",
   "metadata": {},
   "outputs": [
    {
     "ename": "SyntaxError",
     "evalue": "unterminated string literal (detected at line 1) (1435183079.py, line 1)",
     "output_type": "error",
     "traceback": [
      "\u001b[0;36m  Cell \u001b[0;32mIn[5], line 1\u001b[0;36m\u001b[0m\n\u001b[0;31m    this is my except book [ Errno 2 ] No such file or directoly \" test. txt\u001b[0m\n\u001b[0m                                                                 ^\u001b[0m\n\u001b[0;31mSyntaxError\u001b[0m\u001b[0;31m:\u001b[0m unterminated string literal (detected at line 1)\n"
     ]
    }
   ],
   "source": [
    "this is my except book [ Errno 2 ] No such file or directoly \" test. txt"
   ]
  },
  {
   "cell_type": "code",
   "execution_count": null,
   "id": "f0ea63a2-1197-4e8b-99c2-34b86a1b0cca",
   "metadata": {},
   "outputs": [],
   "source": [
    "try:\n",
    "    F= open ( \" test, txt\" 'W')\n",
    "    except exception as e:\n",
    "    print ( \" this is my except block 'e')    \n",
    "        \n",
    "    "
   ]
  },
  {
   "cell_type": "code",
   "execution_count": null,
   "id": "4b2dd78d-7358-41d0-971d-a5ed5d6206e5",
   "metadata": {},
   "outputs": [],
   "source": [
    "try:\n",
    "    F= open ( \" test ,txt\" ,W )\n",
    "    F= Write ( \" Write into my file \") except Exception as e:\n",
    "    Print (\" this is my except book\" e ) \n",
    "    "
   ]
  },
  {
   "cell_type": "code",
   "execution_count": null,
   "id": "aa05aebb-3443-4dd1-a3de-0e811655cbab",
   "metadata": {},
   "outputs": [],
   "source": [
    "Q.2"
   ]
  },
  {
   "cell_type": "code",
   "execution_count": null,
   "id": "b920d4ff-4c86-4454-83de-1ce4446d48ad",
   "metadata": {},
   "outputs": [],
   "source": [
    "x = 100\n",
    "y=0\n",
    "try:\n",
    "    1) Z = x/y # Divide by zero exception because y=0\n",
    "    2) print ( \" Answer = \" z) # will not be excuted, hence no output except zero division Error:\n",
    "    print ( \" Divided by zero error please do not assign zero to variable ' y ' )\n",
    "           print (\" The end \") \n",
    "    "
   ]
  },
  {
   "cell_type": "code",
   "execution_count": null,
   "id": "f536ef4a-76fa-4a40-b056-4be342a51fdd",
   "metadata": {},
   "outputs": [],
   "source": [
    "Q.3"
   ]
  },
  {
   "cell_type": "code",
   "execution_count": 7,
   "id": "352fc0df-a580-4eaf-97b4-2cdfbb8d5686",
   "metadata": {},
   "outputs": [
    {
     "ename": "SyntaxError",
     "evalue": "invalid syntax (1907351207.py, line 3)",
     "output_type": "error",
     "traceback": [
      "\u001b[0;36m  Cell \u001b[0;32mIn[7], line 3\u001b[0;36m\u001b[0m\n\u001b[0;31m    Class small Exception ( Error ):\u001b[0m\n\u001b[0m          ^\u001b[0m\n\u001b[0;31mSyntaxError\u001b[0m\u001b[0;31m:\u001b[0m invalid syntax\n"
     ]
    }
   ],
   "source": [
    "class Error ( Exception ) : \n",
    "    pass\n",
    "Class small Exception ( Error ):\n",
    "    pass \n",
    "Class large Exception ( Error ): \n",
    "    pass \n",
    "x= 4 \n",
    "try:\n",
    "    n= int ( input( \" ENTER number\")) if n<x;\n",
    "    raise small Exception\n",
    "    elif n>x:\n",
    "    raise large Exception\n",
    "    else:\n",
    "    print (\" Value is equal !\" ) except small Exception     "
   ]
  },
  {
   "cell_type": "code",
   "execution_count": null,
   "id": "1694dec6-b4ab-4bb3-8eb5-9be680c64821",
   "metadata": {},
   "outputs": [],
   "source": [
    "Q.4"
   ]
  },
  {
   "cell_type": "code",
   "execution_count": 8,
   "id": "c987c455-fdd6-4d07-bf0c-231c8d39446a",
   "metadata": {},
   "outputs": [
    {
     "ename": "SyntaxError",
     "evalue": "'return' outside function (3866476911.py, line 5)",
     "output_type": "error",
     "traceback": [
      "\u001b[0;36m  Cell \u001b[0;32mIn[8], line 5\u001b[0;36m\u001b[0m\n\u001b[0;31m    return 1\u001b[0m\n\u001b[0m    ^\u001b[0m\n\u001b[0;31mSyntaxError\u001b[0m\u001b[0;31m:\u001b[0m 'return' outside function\n"
     ]
    }
   ],
   "source": [
    "try:\n",
    "    den= input ( \" input a number '\")\n",
    "    x= 1.0/ int ( den )\n",
    "    print ( x ) \n",
    "    return 1\n",
    "except:\n",
    "    print (\" Exception\") \n",
    "    return 0 \n",
    "Finally \n",
    "print (\" this is a finally test\")"
   ]
  },
  {
   "cell_type": "code",
   "execution_count": null,
   "id": "eb8d02d6-c9ca-4f75-a9a3-e072b2fbd1e3",
   "metadata": {},
   "outputs": [],
   "source": [
    "def divide ( x,y):"
   ]
  },
  {
   "cell_type": "code",
   "execution_count": null,
   "id": "7099f340-6bbe-4d91-8eeb-50c021928d99",
   "metadata": {},
   "outputs": [],
   "source": [
    "try:\n",
    "    print ( f { x }/ { y } is { x/y } except zero division error as e \n",
    "           print ( e ) \n",
    "    else:\n",
    "           print ( \" divided() function worked fine\") \n",
    "     Finally:\n",
    "           print ( \" close all the resource here\" )"
   ]
  },
  {
   "cell_type": "code",
   "execution_count": null,
   "id": "e149c7a1-3fd5-4d4c-a3f7-aa25f31c3669",
   "metadata": {},
   "outputs": [],
   "source": [
    "print ( \" Enter num ! \" ) \n",
    "num 1= input () \n",
    "print ( Enter num 2 \") \n",
    "num 2 = input ()              "
   ]
  },
  {
   "cell_type": "code",
   "execution_count": null,
   "id": "d2c36085-6ad1-420e-89d0-0e610c63615d",
   "metadata": {},
   "outputs": [],
   "source": [
    "try:\n",
    "    print (\" The sum of these two number is\" int ( num 1 ) * int ( nume) except Exception as e: \n",
    "           print ( e ) "
   ]
  },
  {
   "cell_type": "code",
   "execution_count": null,
   "id": "7c172f44-9dc8-43f3-afd8-9974b71f7ee5",
   "metadata": {},
   "outputs": [],
   "source": [
    "Q.5"
   ]
  },
  {
   "cell_type": "code",
   "execution_count": null,
   "id": "cfadb6a1-4103-4f85-be2b-13167f3ea66f",
   "metadata": {},
   "outputs": [],
   "source": [
    "1) age= input (\" Enter your age\"))"
   ]
  },
  {
   "cell_type": "code",
   "execution_count": null,
   "id": "30bd582d-319e-41e7-bb8b-8e5989bed175",
   "metadata": {},
   "outputs": [],
   "source": [
    "2) class validateage ( Exception): \n",
    "    def____inti____(self,msg):\n",
    "        self,msg=msg"
   ]
  },
  {
   "cell_type": "code",
   "execution_count": null,
   "id": "ba9b5c0e-b06b-4fd4-9e52-c9d6aace120c",
   "metadata": {},
   "outputs": [],
   "source": [
    "3) def validactage ( age ) \n",
    "if age < o:\n",
    "    raise validateage ( Entered age is negative) "
   ]
  },
  {
   "cell_type": "code",
   "execution_count": null,
   "id": "67d4cccf-8ce4-4bf1-b41d-1ef8b098ff5f",
   "metadata": {},
   "outputs": [],
   "source": [
    "elif age > 200:\n",
    "    raise validatage ( Entered age is very very hign) \n",
    "    else:\n",
    "        print (' age is valid) \n",
    "try:\n",
    "   age = int ( input (\" enter your age\"))\n",
    "               validetage ( age) "
   ]
  },
  {
   "cell_type": "code",
   "execution_count": null,
   "id": "1e1df542-460a-4ba0-8605-5dceedc18d68",
   "metadata": {},
   "outputs": [],
   "source": [
    "Q.6"
   ]
  },
  {
   "cell_type": "code",
   "execution_count": null,
   "id": "70b15e09-b23c-4707-b749-9a5b3f278781",
   "metadata": {},
   "outputs": [],
   "source": [
    "1) try:\n",
    "       10/0\n",
    "        Exception as e \n",
    "        print ( e ) \n",
    "        division by zero "
   ]
  },
  {
   "cell_type": "code",
   "execution_count": null,
   "id": "71b78896-cb60-4a05-8cbc-140526bca853",
   "metadata": {},
   "outputs": [],
   "source": [
    "2) try:\n",
    "       10/0\n",
    "         except zero division error as e:\n",
    "        print ( e )\n",
    "        \n",
    "        division by zero"
   ]
  },
  {
   "cell_type": "code",
   "execution_count": null,
   "id": "c4038bb3-bd4c-4dee-bc93-a5027062c381",
   "metadata": {},
   "outputs": [],
   "source": [
    "3) # print always a proper message \n",
    "try:\n",
    "    10/0\n",
    "    except zero division Error as e:\n",
    "        print (: I am trying to handle e zero division error e ) "
   ]
  },
  {
   "cell_type": "code",
   "execution_count": null,
   "id": "400d895e-8028-403f-8926-8fd434274b08",
   "metadata": {},
   "outputs": [],
   "source": [
    "4) import logging \n",
    "logging basic config ( file name = error log level = Logging errors \n",
    "try:\n",
    "    10/0\n",
    "    except zero division Error as e: \n",
    "    logging error ( i am trying to handle a zerodivision error {} Format (e))                  "
   ]
  }
 ],
 "metadata": {
  "kernelspec": {
   "display_name": "Python 3 (ipykernel)",
   "language": "python",
   "name": "python3"
  },
  "language_info": {
   "codemirror_mode": {
    "name": "ipython",
    "version": 3
   },
   "file_extension": ".py",
   "mimetype": "text/x-python",
   "name": "python",
   "nbconvert_exporter": "python",
   "pygments_lexer": "ipython3",
   "version": "3.10.8"
  }
 },
 "nbformat": 4,
 "nbformat_minor": 5
}
